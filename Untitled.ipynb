{
 "cells": [
  {
   "cell_type": "markdown",
   "metadata": {},
   "source": [
    "## Comparación de la serie de Leibinz y la serie de Ramanujan para hallar Pi\n"
   ]
  },
  {
   "cell_type": "markdown",
   "metadata": {},
   "source": [
    "### Serie de Leibinz"
   ]
  },
  {
   "cell_type": "markdown",
   "metadata": {},
   "source": [
    "La serie de Leibinz se define como:"
   ]
  },
  {
   "cell_type": "markdown",
   "metadata": {},
   "source": [
    "\\begin{equation}\n",
    "\\begin{split}\n",
    "\\frac{\\pi}{4} & = \\sum_{n=0}^{\\inf} \\frac{{(-1)}^{n}}{2n+1}  \n",
    "\\end{split}\n",
    "\\end{equation}"
   ]
  },
  {
   "cell_type": "markdown",
   "metadata": {},
   "source": [
    "Primeras 1.000 de iteraciones de la serie de Leibinz"
   ]
  },
  {
   "cell_type": "code",
   "execution_count": 1,
   "metadata": {},
   "outputs": [],
   "source": [
    "import math\n",
    "import matplotlib.pyplot as plt\n",
    "import numpy as np\n",
    "from decimal import *\n",
    "D = Decimal\n",
    "def mult(x,y): return getcontext().multiply(x,y)\n",
    "def div(x,y): return getcontext().divide(x,y)\n",
    "def add(x,y): return getcontext().add(x,y)\n",
    "def power(x,y): return getcontext().power(x,y)\n",
    "def sqrt(x): return getcontext().sqrt(x)\n",
    "pi = \"3.141592653589793238462643383279502884197169399375105820974944592307816406286208998628034825342117067\"\n"
   ]
  },
  {
   "cell_type": "code",
   "execution_count": 2,
   "metadata": {},
   "outputs": [
    {
     "name": "stdout",
     "output_type": "stream",
     "text": [
      "pi \t\t\t3.1415926535897932384626433832795028841971693993751\n",
      "pi serie Leibinz \t3.1405926538397929259635965028693959704513893307794\n"
     ]
    }
   ],
   "source": [
    "getcontext().prec = 50\n",
    "def serie_Leibinz(start = 0,end = 0):\n",
    "    pi_Leibinz=Decimal(0)\n",
    "    for n in range(start,end):\n",
    "        pi_Leibinz+=div(power(D(-1),n),add(mult(D(2),n),D(1)))\n",
    "    pi_Leibinz=mult(pi_Leibinz,Decimal(4))\n",
    "    return pi_Leibinz\n",
    "\n",
    "pi_Leibinz = serie_Leibinz(end=1000)\n",
    "print(\"pi \\t\\t\\t\"+ pi[0:51])\n",
    "print (\"pi serie Leibinz \\t\" + str(pi_Leibinz))"
   ]
  },
  {
   "cell_type": "markdown",
   "metadata": {},
   "source": [
    "## Serie de Ramanujan"
   ]
  },
  {
   "cell_type": "markdown",
   "metadata": {},
   "source": [
    "la serie de Ramanujan se define como:"
   ]
  },
  {
   "cell_type": "markdown",
   "metadata": {},
   "source": [
    "\\begin{equation}\n",
    "\\begin{split}\n",
    "\\frac{1}{\\pi} & = \\frac{\\sqrt{8}}{9801}\\sum_{n=0}^{\\inf} \\frac{{(4n)}!}{{(n!)}^{4}} * \\frac{26390n+1103}{396^{4n}}  \n",
    "\\end{split}\n",
    "\\end{equation}"
   ]
  },
  {
   "cell_type": "markdown",
   "metadata": {},
   "source": [
    "Primeras 30 iteraciones serie de Ramanujan"
   ]
  },
  {
   "cell_type": "code",
   "execution_count": 3,
   "metadata": {},
   "outputs": [
    {
     "name": "stdout",
     "output_type": "stream",
     "text": [
      "pi serie Ramanujan\t3.1415926535897932384626433832795028841971693993751\n",
      "pi \t\t\t3.1415926535897932384626433832795028841971693993751\n"
     ]
    }
   ],
   "source": [
    "getcontext().prec = 50\n",
    "def serie_Ramanujan(end):\n",
    "    pi_Ramanujan=Decimal(0)\n",
    "    for n in range(end+1):\n",
    "        fact=div(D(math.factorial(mult(4,n))),D(power(D(math.factorial(n)),D(4))))\n",
    "        pi_Ramanujan += mult(div(add(mult(D(26390),D(n)),D(1103)),power(D(396),mult(D(4),D(n)))),fact)\n",
    "    pi_Ramanujan=mult(pi_Ramanujan,div(power(D(8),D(0.5)),D(9801)))\n",
    "    pi_Ramanujan=div(D(1),pi_Ramanujan)\n",
    "    return pi_Ramanujan\n",
    "pi_Ramanujan=serie_Ramanujan(end=30)\n",
    "print(\"pi serie Ramanujan\\t\"+str(pi_Ramanujan))\n",
    "print(\"pi \\t\\t\\t\"+pi[0:51])"
   ]
  },
  {
   "cell_type": "markdown",
   "metadata": {},
   "source": [
    "## Metodología"
   ]
  },
  {
   "cell_type": "markdown",
   "metadata": {},
   "source": [
    "Para comparar la velocidad de convergencia se va a comparar la cantidad de iteraciones con la cantidad de cifras correctas, usando una función que permite comparar dígito por dígito el resultado obtenido por las series en varios puntos con la aproximación de los primeros 100 decimales de pi obtenida de https://www.piday.org/million/."
   ]
  },
  {
   "cell_type": "code",
   "execution_count": 4,
   "metadata": {},
   "outputs": [],
   "source": [
    "def compare_digits(st1,st2):\n",
    "    st1=str(st1).replace(\".\",\"\")\n",
    "    st2=str(st2).replace(\".\",\"\")\n",
    "    dist=0\n",
    "    len_st1=len(st1)\n",
    "    len_st2=len(st2)\n",
    "    length=0\n",
    "    \n",
    "    if len_st1>len_st2:\n",
    "        st2=st2.ljust(len_st1, '-')\n",
    "        length=len_st1\n",
    "        \n",
    "    elif len_st1<=len_st2:\n",
    "        st1=st1.ljust(len_st2, '-')\n",
    "        length=len_st2\n",
    "        \n",
    "    for i in range(0,length):\n",
    "        if st1[i]==st2[i]:\n",
    "            dist+=1\n",
    "        else:\n",
    "            return dist\n",
    "    return dist"
   ]
  },
  {
   "cell_type": "markdown",
   "metadata": {},
   "source": [
    "## Serie de Leibinz"
   ]
  },
  {
   "cell_type": "code",
   "execution_count": 5,
   "metadata": {},
   "outputs": [
    {
     "data": {
      "image/png": "[encoded data removed]",
      "text/plain": [
       "<Figure size 432x288 with 1 Axes>"
      ]
     },
     "metadata": {
      "needs_background": "light"
     },
     "output_type": "display_data"
    }
   ],
   "source": [
    "getcontext().prec = 102\n",
    "correct_digits = []\n",
    "pi_Leibinz=0\n",
    "x=np.array(range(0,10000000,100))\n",
    "pi_Ramanujan=0\n",
    "for i in range (0,10000000,100):\n",
    "    pi_Leibinz = add(serie_Leibinz(start=i,end=i+100),pi_Leibinz)\n",
    "    dig= compare_digits(pi_Leibinz,pi)\n",
    "    correct_digits.append(dig)\n",
    "correct_digits = np.asarray(correct_digits)\n",
    "\n",
    "plt.plot(x,correct_digits,label = \"error/iteracion\");\n",
    "plt.grid(alpha=1,linestyle='--')\n",
    "plt.xlabel(\"iteraciones\")\n",
    "plt.ylabel(\"digitos correctos\")\n",
    "plt.title(\"Serie de Leibinz\")\n",
    "plt.show()"
   ]
  },
  {
   "cell_type": "markdown",
   "metadata": {},
   "source": [
    "## Serie de Ramanujan"
   ]
  },
  {
   "cell_type": "code",
   "execution_count": 6,
   "metadata": {},
   "outputs": [
    {
     "data": {
      "image/png": "[encoded data removed]",
      "text/plain": [
       "<Figure size 432x288 with 1 Axes>"
      ]
     },
     "metadata": {
      "needs_background": "light"
     },
     "output_type": "display_data"
    },
    {
     "name": "stdout",
     "output_type": "stream",
     "text": [
      "[ 16  24  32  40  48  54  64  71  78  87  95 100 100 100 100]\n"
     ]
    }
   ],
   "source": [
    "getcontext().prec = 102\n",
    "correct_digits = []\n",
    "x=np.array(range(0,15))\n",
    "pi_Ramanujan=0\n",
    "for i in range (0,15):\n",
    "    pi_Ramanujan = serie_Ramanujan(i+1)  \n",
    "    dig= compare_digits(pi_Ramanujan,pi)\n",
    "    correct_digits.append(dig)\n",
    "correct_digits = np.asarray(correct_digits)\n",
    "\n",
    "plt.plot(x,correct_digits);\n",
    "plt.grid(alpha=1,linestyle='--')\n",
    "plt.xlabel(\"iteraciones\")\n",
    "plt.ylabel(\"digitos correctos\")\n",
    "plt.title(\"Serie de Ramanujan\")\n",
    "plt.show()\n",
    "print (correct_digits)"
   ]
  },
  {
   "cell_type": "markdown",
   "metadata": {},
   "source": [
    "## Conclusión\n",
    "\n",
    "Se observa que despues de 10.000.000 de iteraciones la serie de Leibinz solo ha alcanzado 7 digitos correctos, por otra parte la serie de Ramanujan despues de 12 iteraciones llega a 100 digitos correctos, la serie de Ramanujan converge a pi mucho mas rápido que la serie de Leibinz (muy aproximadamente en el orden de 10^7 veces mas rapido)."
   ]
  }
 ],
 "metadata": {
  "kernelspec": {
   "display_name": "Python 3",
   "language": "python",
   "name": "python3"
  },
  "language_info": {
   "codemirror_mode": {
    "name": "ipython",
    "version": 3
   },
   "file_extension": ".py",
   "mimetype": "text/x-python",
   "name": "python",
   "nbconvert_exporter": "python",
   "pygments_lexer": "ipython3",
   "version": "3.7.4"
  }
 },
 "nbformat": 4,
 "nbformat_minor": 2
}
